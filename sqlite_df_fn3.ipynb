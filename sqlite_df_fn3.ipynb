{
 "cells": [
  {
   "cell_type": "markdown",
   "id": "placed-gravity",
   "metadata": {},
   "source": [
    "# Data Filtering and Conversion Notebook"
   ]
  },
  {
   "cell_type": "markdown",
   "id": "auburn-basket",
   "metadata": {},
   "source": [
    "## In this notebook : we are creating a filtered dataset from a much larger database to extract relevant data/columns for further analysis"
   ]
  },
  {
   "cell_type": "markdown",
   "id": "oriental-sally",
   "metadata": {},
   "source": [
    "## Input : \n",
    "    - SQLite database path from joining the input meta data and sequence data (in Code cell 3)\n",
    "    - Query to select columns of interest (in Code cell 3)\n",
    "    - User-defined filters to analyze a subset of the data (eg. Baseline vs Acute)\n",
    "            "
   ]
  },
  {
   "cell_type": "markdown",
   "id": "religious-external",
   "metadata": {},
   "source": [
    "## Output : \n",
    "    - Dataframe object in CSV or SQLite DB (In Code cell 11 and 12)"
   ]
  },
  {
   "cell_type": "code",
   "execution_count": 85,
   "id": "ordered-tuesday",
   "metadata": {},
   "outputs": [],
   "source": [
    "# load needed libraries\n",
    "import sqlite3\n",
    "import os\n",
    "import pandas as pd"
   ]
  },
  {
   "cell_type": "markdown",
   "id": "focused-lottery",
   "metadata": {},
   "source": [
    "# User input"
   ]
  },
  {
   "cell_type": "markdown",
   "id": "cooperative-karma",
   "metadata": {},
   "source": [
    "## Database from Extract"
   ]
  },
  {
   "cell_type": "markdown",
   "id": "successful-wellington",
   "metadata": {},
   "source": [
    "Connect to SQLite database"
   ]
  },
  {
   "cell_type": "code",
   "execution_count": 86,
   "id": "noticed-nashville",
   "metadata": {},
   "outputs": [],
   "source": [
    "def connect():\n",
    "    '''function to return SQLite connection\n",
    "    '''\n",
    "    # create connection object representing database\n",
    "    # point to local db (DB Path)\n",
    "    return(sqlite3.connect('./extract_to_sql/test.db') )"
   ]
  },
  {
   "cell_type": "markdown",
   "id": "measured-chinese",
   "metadata": {},
   "source": [
    "Create SQLite connection instance"
   ]
  },
  {
   "cell_type": "code",
   "execution_count": 87,
   "id": "adverse-swedish",
   "metadata": {},
   "outputs": [],
   "source": [
    "conn = connect()"
   ]
  },
  {
   "cell_type": "markdown",
   "id": "golden-brand",
   "metadata": {},
   "source": [
    "### Enter your query parameters below"
   ]
  },
  {
   "cell_type": "code",
   "execution_count": 88,
   "id": "charitable-training",
   "metadata": {},
   "outputs": [],
   "source": [
    "disease_stage1 = \"Recovered\""
   ]
  },
  {
   "cell_type": "code",
   "execution_count": 89,
   "id": "thrown-island",
   "metadata": {},
   "outputs": [],
   "source": [
    "disease_stage2 = \"Acute\""
   ]
  },
  {
   "cell_type": "code",
   "execution_count": 90,
   "id": "surprised-velvet",
   "metadata": {},
   "outputs": [],
   "source": [
    "num_rows = 100000"
   ]
  },
  {
   "cell_type": "markdown",
   "id": "unable-lawyer",
   "metadata": {},
   "source": [
    "## Generate query to select key columns"
   ]
  },
  {
   "cell_type": "markdown",
   "id": "cooperative-moderator",
   "metadata": {},
   "source": [
    "Generate SQL query"
   ]
  },
  {
   "cell_type": "code",
   "execution_count": 91,
   "id": "endangered-nerve",
   "metadata": {},
   "outputs": [],
   "source": [
    "# Query selects needed columns\n",
    "# Current Example filters by column disease_stage and number of rows\n",
    "# Current Example creates a function with WHERE clause\n",
    "def query_str():\n",
    "    \n",
    " \n",
    "    \n",
    "    ''' function takes input: None\n",
    "                       output: parametrized SQL query string\n",
    "   \n",
    "    '''\n",
    "\n",
    "    query = '''SELECT sequence_id, junction_aa, junction_aa_length,\\n\n",
    "    seqtable.sample_processing_id, metadata.subject_id, metadata.study_id, metadata.sex, \\n\n",
    "    metadata.disease_diagnosis, metadata.disease_stage, metadata.intervention \\n\n",
    "    FROM seqtable \\n\n",
    "    INNER JOIN metadata on metadata.sample_processing_id = seqtable.sample_processing_id \\n\n",
    "    WHERE disease_stage = (?)  limit (?)'''\n",
    "    \n",
    "    return(query)"
   ]
  },
  {
   "cell_type": "markdown",
   "id": "overhead-sheriff",
   "metadata": {},
   "source": [
    "Generate a query string instance"
   ]
  },
  {
   "cell_type": "code",
   "execution_count": 92,
   "id": "controlled-consistency",
   "metadata": {},
   "outputs": [],
   "source": [
    "query = query_str()"
   ]
  },
  {
   "cell_type": "markdown",
   "id": "owned-signature",
   "metadata": {},
   "source": [
    "## Constraints in the Query"
   ]
  },
  {
   "cell_type": "markdown",
   "id": "infrared-showcase",
   "metadata": {},
   "source": [
    "Generate dataframe from query above"
   ]
  },
  {
   "cell_type": "code",
   "execution_count": 93,
   "id": "hearing-playback",
   "metadata": {},
   "outputs": [],
   "source": [
    "# This creates a pandas dataframe from the database\n",
    "# You will need to make a  place holder for column name and number of records\n",
    "def getdata( query, disease_stage,  num_rows ):\n",
    "    ''' function takes input: \n",
    "                            query : SQL query,\n",
    "                            and two binding parameters in query string: disease_stage, num_rows   \n",
    "    '''\n",
    "    \n",
    "    df = pd.read_sql_query(query_str(),\n",
    "                           connect(),\n",
    "                           params = (disease_stage, num_rows),)\n",
    "    return(df)"
   ]
  },
  {
   "cell_type": "markdown",
   "id": "blessed-freeze",
   "metadata": {},
   "source": [
    "Generate dataframe instance"
   ]
  },
  {
   "cell_type": "code",
   "execution_count": 94,
   "id": "promising-scotland",
   "metadata": {},
   "outputs": [],
   "source": [
    "df1 = getdata(query, disease_stage1, num_rows ) # Recovered\n",
    "df2 = getdata(query, disease_stage2, num_rows ) # Acute"
   ]
  },
  {
   "cell_type": "markdown",
   "id": "swedish-summer",
   "metadata": {},
   "source": [
    "# export queried data frame to a CSV file"
   ]
  },
  {
   "cell_type": "code",
   "execution_count": 95,
   "id": "plastic-night",
   "metadata": {},
   "outputs": [],
   "source": [
    "#df.to_csv(\"df_for_analysis2.csv\")\n",
    "#df.to_csv(\"df_for_analysis2.csv\")"
   ]
  },
  {
   "cell_type": "markdown",
   "id": "chief-annotation",
   "metadata": {},
   "source": [
    "# export queried data frame to a SQLite db"
   ]
  },
  {
   "cell_type": "code",
   "execution_count": 96,
   "id": "moving-grenada",
   "metadata": {},
   "outputs": [],
   "source": [
    "# export queried data frame to a SQLite db\n",
    "from sqlalchemy import create_engine\n",
    "from sqlalchemy.orm import sessionmaker\n",
    "from sqlalchemy.ext.declarative import declarative_base\n",
    "\n",
    "disk_engine = create_engine('sqlite:///disease_stage.db')\n",
    "Base = declarative_base()\n",
    "\n",
    "df1.to_sql('Baseline', disk_engine, if_exists = 'replace')\n",
    "df2.to_sql('Acute', disk_engine, if_exists = 'replace')\n",
    "\n",
    "\n",
    "Base.metadata.create_all(disk_engine)"
   ]
  },
  {
   "cell_type": "code",
   "execution_count": 97,
   "id": "loose-bunny",
   "metadata": {},
   "outputs": [],
   "source": [
    "conn.close()"
   ]
  },
  {
   "cell_type": "code",
   "execution_count": 99,
   "id": "seeing-scheduling",
   "metadata": {},
   "outputs": [
    {
     "data": {
      "text/plain": [
       "Index(['sequence_id', 'junction_aa', 'junction_aa_length',\n",
       "       'sample_processing_id', 'subject_id', 'study_id', 'sex',\n",
       "       'disease_diagnosis', 'disease_stage', 'intervention'],\n",
       "      dtype='object')"
      ]
     },
     "execution_count": 99,
     "metadata": {},
     "output_type": "execute_result"
    }
   ],
   "source": [
    "df1.columns"
   ]
  },
  {
   "cell_type": "markdown",
   "id": "backed-difference",
   "metadata": {},
   "source": [
    "# Load the queried data"
   ]
  }
 ],
 "metadata": {
  "kernelspec": {
   "display_name": "Python 3",
   "language": "python",
   "name": "python3"
  },
  "language_info": {
   "codemirror_mode": {
    "name": "ipython",
    "version": 3
   },
   "file_extension": ".py",
   "mimetype": "text/x-python",
   "name": "python",
   "nbconvert_exporter": "python",
   "pygments_lexer": "ipython3",
   "version": "3.8.5"
  }
 },
 "nbformat": 4,
 "nbformat_minor": 5
}
